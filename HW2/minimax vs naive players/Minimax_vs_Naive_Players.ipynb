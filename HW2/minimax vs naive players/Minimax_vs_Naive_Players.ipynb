{
  "nbformat": 4,
  "nbformat_minor": 0,
  "metadata": {
    "colab": {
      "provenance": [],
      "collapsed_sections": []
    },
    "kernelspec": {
      "name": "python3",
      "display_name": "Python 3"
    },
    "language_info": {
      "name": "python"
    }
  },
  "cells": [
    {
      "cell_type": "markdown",
      "source": [
        "Consider the given 8*8 board game. There are two players in this game and they try to block each other and limit their valid moves by making walls. Their moves are limited to the 8 cells (or less when they are around the edges) beside them and the walls will start to appear only when a player steps into a random generated yellow cell and the wall will continue to be built until the player reaches the next yellow cell. The players start the game at (0,0) and (7,7) and they keep playing untill one of them loses. There are multiple ways for a player to win the match:\n",
        "- If a player steps into a wall or out of the board, the player loses the match and \"invalid move\" massege will appear on terminal.\n",
        "- If the players reach the maximum moves the game finishes and the winner would be chosen based on the maximum valid move they have left plus the number of walls they have made and \"No more moves\" massege will appear on terminal.\n",
        "- If the getMove() function does not return any value after 2 seconds, the player loses the match and \"Time limit exceeded\" massege will appear on terminal.\n",
        "<img src=\"Images/Q3.png\" style=\"float: center; margin-left: 250px; margin-top: 50px; width:500px;height:400px;\"/>"
      ],
      "metadata": {
        "id": "ZsQYhPCsLIm4"
      }
    },
    {
      "cell_type": "markdown",
      "source": [
        "In this question, the codes for starting the game were provided for you in Helper-codes folder. You are expected to implement the MinimaxPlayer class (which inherit the Player class) with alpha-beta pruning. (25 points)"
      ],
      "metadata": {
        "id": "_tT9lW62LLK3"
      }
    },
    {
      "cell_type": "markdown",
      "source": [
        "## Libraries"
      ],
      "metadata": {
        "id": "q3w8FccoLMdv"
      }
    },
    {
      "cell_type": "code",
      "execution_count": null,
      "metadata": {
        "id": "32mJ0W01K26C"
      },
      "outputs": [],
      "source": [
        "#!pip install tk\n",
        "#!pip install matplotlib\n",
        "import numpy as np\n",
        "import random\n",
        "from Helper_codes.graphics import *\n",
        "from Helper_codes.question3 import Cell\n",
        "from Helper_codes.question3 import IntPair\n",
        "from Helper_codes.question3 import Player\n",
        "from Helper_codes.question3 import NaivePlayer\n",
        "from Helper_codes.question3 import Board\n",
        "from Helper_codes.question3 import Game\n",
        "import time\n",
        "import matplotlib.pyplot as plt"
      ]
    },
    {
      "cell_type": "markdown",
      "source": [
        "**The following implementations are suggestional and you may change them if you desire.\n",
        "The move_ functions' purpose is to find out if a player, has a valid move on that direction.\n",
        "the purpose of checkRow and CheckCole are to check if the player's x and y is still in the board.**\n"
      ],
      "metadata": {
        "id": "nMRp1n4MLOpP"
      }
    },
    {
      "cell_type": "code",
      "source": [
        "#to do\n",
        "class MinimaxPlayer(Player):\n",
        "    \n",
        "    def __init__(self, col, x, y, depth):\n",
        "        super().__init__(col, x, y)\n",
        "        self.depth = depth\n",
        "        \n",
        "    def checkCol(self, x):\n",
        "        if x < 8:\n",
        "            if x >= 0 :\n",
        "                return True \n",
        "        return False\n",
        "    \n",
        "    def checkRow(self, y):\n",
        "        if y < 8:\n",
        "            if y >= 0 :\n",
        "                return True \n",
        "        return False\n",
        "    \n",
        "\n",
        "    def moveU(self, x, y, board):\n",
        "        if y + 1 < board.getSize():\n",
        "            if board.getCell(x , y + 1).getColor() <= 0 :\n",
        "                return True \n",
        "        return False\n",
        "    \n",
        "\n",
        "    def moveD(self, x, y, board):\n",
        "        if y - 1 >= 0 :\n",
        "            if board.getCell(x , y - 1).getColor() <= 0:\n",
        "                return True \n",
        "        return False\n",
        "\n",
        "    def moveR(self, x, y, board):\n",
        "        if x + 1 < board.getSize():\n",
        "            if board.getCell(x + 1, y).getColor() <= 0:\n",
        "                return True\n",
        "        return False\n",
        "    \n",
        "    def moveL(self, x, y, board):\n",
        "        if x - 1 >= 0 :\n",
        "            if board.getCell(x - 1, y).getColor() <= 0:\n",
        "                return True\n",
        "        return False\n",
        "\n",
        "    def moveUR(self, x, y, board):\n",
        "        if x + 1 < board.getSize():\n",
        "            if y + 1 < board.getSize():\n",
        "                if board.getCell(x + 1, y + 1).getColor() <= 0:\n",
        "                    return True\n",
        "        return False\n",
        "    \n",
        "    def moveUL(self, x, y, board):\n",
        "        if x - 1 >= 0 :\n",
        "            if y + 1 < board.getSize():\n",
        "                if board.getCell(x - 1, y + 1).getColor() <= 0:\n",
        "                    return True\n",
        "        return False\n",
        "\n",
        "    def moveDR(self, x, y, board):\n",
        "        if x + 1 < board.getSize():\n",
        "            if y - 1 >= 0 :\n",
        "                if board.getCell(x + 1, y - 1).getColor() <= 0:\n",
        "                    return True\n",
        "        return False\n",
        "\n",
        "    def moveDL(self, x, y, board):\n",
        "        if x - 1 >= 0 :\n",
        "            if y - 1 >= 0 :\n",
        "                if board.getCell(x - 1, y - 1).getColor() <= 0:\n",
        "                    return True\n",
        "        return False\n",
        "\n",
        "    def canMove(self, x, y, board):\n",
        "        State1 = self.moveU(x, y, board)\n",
        "        State2 = self.moveD(x, y, board)\n",
        "        State3 = self.moveR(x, y, board)\n",
        "        State4 = self.moveL(x, y, board)\n",
        "        State5 = self.moveUR(x, y, board)\n",
        "        State6 = self.moveUL(x, y, board)\n",
        "        State7 = self.moveDR(x, y, board)\n",
        "        State8 = self.moveDL(x, y, board)        \n",
        "        Fina_state = State1 or State2 or State3 or State4 or State5 or State6 or State7 or State8\n",
        "        return Fina_state\n",
        "\n",
        "    def minValue(self, board, alpha, beta, depth, d):\n",
        "        x = self.getX()\n",
        "        y = self.getY()\n",
        "        State1 = self.moveU(self.getX(), self.getY(), board)\n",
        "        State2 = self.moveD(self.getX(), self.getY(), board)\n",
        "        State3 = self.moveR(self.getX(), self.getY(), board)\n",
        "        State4 = self.moveL(self.getX(), self.getY(), board)\n",
        "        State5 = self.moveUR(self.getX(), self.getY(), board)\n",
        "        State6 = self.moveUL(self.getX(), self.getY(), board)\n",
        "        State7 = self.moveDR(self.getX(), self.getY(), board)\n",
        "        State8 = self.moveDL(self.getX(), self.getY(), board)   \n",
        "        states = [State1,State2,State3,State4,State5,State6,State7,State8]\n",
        "        moves= [[0,1],[0,-1],[1,0],[-1,0],[1,1],[-1,1],[1,-1],[-1,-1]]\n",
        "        v = float('inf')\n",
        "        if d==0:\n",
        "            v = board.getScore(3-self.getCol())\n",
        "            return v\n",
        "        for i in range(8):\n",
        "            if states[i] == True:\n",
        "                Newboard = Board(board)\n",
        "                Newboard.move(IntPair(x+moves[i][0],y+moves[i][1]),self.getCol())\n",
        "                v = min(v,self.maxValue(Newboard,alpha, beta, depth, d-1))\n",
        "                if v < alpha:\n",
        "                    return v\n",
        "                beta = min(beta,v)\n",
        "        return v\n",
        "\n",
        "    def maxValue(self, board, alpha, beta, depth, d):\n",
        "        x = self.getX()\n",
        "        y = self.getY()\n",
        "        State1 = self.moveU(self.getX(), self.getY(), board)\n",
        "        State2 = self.moveD(self.getX(), self.getY(), board)\n",
        "        State3 = self.moveR(self.getX(), self.getY(), board)\n",
        "        State4 = self.moveL(self.getX(), self.getY(), board)\n",
        "        State5 = self.moveUR(self.getX(), self.getY(), board)\n",
        "        State6 = self.moveUL(self.getX(), self.getY(), board)\n",
        "        State7 = self.moveDR(self.getX(), self.getY(), board)\n",
        "        State8 = self.moveDL(self.getX(), self.getY(), board)  \n",
        "        states = [State1,State2,State3,State4,State5,State6,State7,State8]\n",
        "        moves= [[0,1],[0,-1],[1,0],[-1,0],[1,1],[-1,1],[1,-1],[-1,-1]]\n",
        "        v = float('-inf')\n",
        "        if d==0:\n",
        "            v = board.getScore(self.getCol())\n",
        "            return v\n",
        "        best_road = moves[0]\n",
        "        for i in range(8):\n",
        "            if states[i] == True:\n",
        "                Newboard = Board(board)\n",
        "                Newboard.move(IntPair(x+moves[i][0],y+moves[i][1]),self.getCol())\n",
        "                new_v = self.minValue(Newboard,alpha, beta, depth,d-1)\n",
        "                if new_v > v:\n",
        "                    v = new_v;\n",
        "                    if d == depth:\n",
        "                        best_road = moves[i]\n",
        "                if new_v > beta:\n",
        "                    if d == depth:\n",
        "                        best_road = moves[i]\n",
        "                        new_x =  self.getX() + best_road[0]\n",
        "                        new_y =  self.getY() + best_road[1]\n",
        "                        while not (self.checkRow(new_x) and self.checkRow(new_y)):\n",
        "                            continue\n",
        "                        return best_road \n",
        "                    return v\n",
        "                alpha = max(alpha,v)\n",
        "        if d == depth: \n",
        "            new_x =  self.getX() + best_road[0]\n",
        "            new_y =  self.getY() + best_road[1]\n",
        "            while not (self.checkRow(new_x) and self.checkRow(new_y)):\n",
        "                continue\n",
        "            return best_road\n",
        "        return v\n",
        "    \n",
        "    def getMove(self, board):\n",
        "        alpha = float('-inf')\n",
        "        beta = float('inf')\n",
        "        next = IntPair(-20, -20)\n",
        "\n",
        "        if (board.getNumberOfMoves() == board.maxNumberOfMoves):\n",
        "            return IntPair(-20, -20)\n",
        "        \n",
        "        if not (self.canMove(board.getPlayerX(self.getCol()), board.getPlayerY(self.getCol()), board)):\n",
        "            return IntPair(-10, -10)\n",
        "        \n",
        "        if (self.getCol() == 1):\n",
        "            road = self.maxValue(board, alpha, beta, self.depth, self.depth)\n",
        "            x_next = self.getX() + road[0]\n",
        "            y_next = self.getY() + road[1]\n",
        "            board.move(IntPair(self.getX()+road[0],self.getY()+road[1]),self.getCol())\n",
        "            return IntPair(x_next, y_next)\n",
        "        \n",
        "        else:\n",
        "            road = self.maxValue(board, alpha, beta, self.depth, self.depth)\n",
        "            x_next = self.getX() + road[0]\n",
        "            y_next = self.getY() + road[1]\n",
        "            board.move(IntPair(self.getX()+road[0],self.getY()+road[1]),self.getCol())\n",
        "            return IntPair(x_next, y_next)"
      ],
      "metadata": {
        "id": "UN_bhiZdLPxi"
      },
      "execution_count": null,
      "outputs": []
    },
    {
      "cell_type": "markdown",
      "source": [
        "If you run the game once (numberOfMatches = 1) the game window will open and you would be able to observe the players behaviour and the reason why the winner has won, will appear on terminal.\n",
        "If you run the game for more than one match (numberOfMatches > 1) the graphic window and the comments on terminal would not show up. This is for the time you finish implementing the MinimaxPlayer class and you want to verify the functionality of your code; also, for next part of the question, in which you should plot the scores for the first player."
      ],
      "metadata": {
        "id": "CHIVxQKyLRII"
      }
    },
    {
      "cell_type": "code",
      "source": [
        "p1 = MinimaxPlayer(1, 0, 0 ,2)\n",
        "p2 = NaivePlayer(2, 7, 7)\n",
        "g = Game(p1, p2)\n",
        "numberOfMatches = 1\n",
        "score1, score2 = g.start(numberOfMatches)\n",
        "print(score1/numberOfMatches)"
      ],
      "metadata": {
        "id": "CU8je2QELSXn"
      },
      "execution_count": null,
      "outputs": []
    },
    {
      "cell_type": "markdown",
      "source": [
        "In this section, you need to run the game code multiple times and each time with the same numberOfMatches (this should be a large number so your answer be more reliable) once for Naive player and once for Minimax. compare these two plots in terms of shape and the main elements of the distribution. (5 points)"
      ],
      "metadata": {
        "id": "4h_W_U6mLTpY"
      }
    },
    {
      "cell_type": "code",
      "source": [
        "p1 = NaivePlayer(2, 0, 0)\n",
        "p2 = NaivePlayer(2, 7, 7)\n",
        "g = Game(p1, p2)\n",
        "numberOfMatches = 15\n",
        "score1, score2 = g.start(numberOfMatches)\n",
        "fig = plt.figure()\n",
        "ax = fig.add_axes([0,0,1,1])\n",
        "langs = ['player 1', 'player 2']\n",
        "height = [score1, score2]\n",
        "ax.bar(langs,height)\n",
        "ax.set_title('Naive players')\n",
        "plt.show()"
      ],
      "metadata": {
        "id": "rPdFv7XULUlY"
      },
      "execution_count": null,
      "outputs": []
    },
    {
      "cell_type": "code",
      "source": [
        "p1 = MinimaxPlayer(1, 0, 0 ,2)\n",
        "p2 = NaivePlayer(2, 7, 7)\n",
        "g = Game(p1, p2)\n",
        "numberOfMatches = 15\n",
        "score1, score2 = g.start(numberOfMatches)\n",
        "\n",
        "fig = plt.figure()\n",
        "ax = fig.add_axes([0,0,1,1])\n",
        "langs = ['player 1', 'player 2']\n",
        "height = [score1, score2]\n",
        "ax.bar(langs,height)\n",
        "ax.set_title('Minimax player vs Naive player')\n",
        "plt.show()\n"
      ],
      "metadata": {
        "id": "0uYfiLDmLVhv"
      },
      "execution_count": null,
      "outputs": []
    },
    {
      "cell_type": "markdown",
      "source": [
        "In this section you should change the game settings for different depths and plot the number of wins in fix number of matches for these depths. Also, you should let two minimax players with diffrent depths play againts eachother and report your observation.(5 points)"
      ],
      "metadata": {
        "id": "ScBjsBooLW8P"
      }
    },
    {
      "cell_type": "code",
      "source": [
        "h_list = [2,3,4,5,6]\n",
        "result = np.zeros(len(h_list))\n",
        "i = 0\n",
        "for h in h_list:\n",
        "    p1 = MinimaxPlayer(1, 0, 0 ,h)\n",
        "    p2 = NaivePlayer(2, 7, 7)\n",
        "    g = Game(p1, p2)\n",
        "    numberOfMatches = 10\n",
        "    score1, score2 = g.start(numberOfMatches)\n",
        "    result[i] = score1\n",
        "    i += 1\n",
        "fig = plt.figure()\n",
        "ax = fig.add_axes([0,0,1,1])\n",
        "langs = ['h=2','h=3','h=4','h=5','h=6']\n",
        "ax.bar(langs,result)\n",
        "ax.set_title('Accuracy vs Depth')\n",
        "plt.show()   \n",
        "    "
      ],
      "metadata": {
        "id": "ncACsfghLX1p"
      },
      "execution_count": null,
      "outputs": []
    },
    {
      "cell_type": "code",
      "source": [
        "p1 = MinimaxPlayer(1, 0, 0 ,2)\n",
        "p2 = MinimaxPlayer(2, 7, 7, 2)\n",
        "g = Game(p1, p2)\n",
        "numberOfMatches = 1\n",
        "score1, score2 = g.start(numberOfMatches)"
      ],
      "metadata": {
        "id": "ASWOQYmJLYxx"
      },
      "execution_count": null,
      "outputs": []
    }
  ]
}