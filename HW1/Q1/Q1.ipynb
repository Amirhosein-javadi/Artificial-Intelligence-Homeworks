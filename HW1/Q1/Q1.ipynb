{
  "nbformat": 4,
  "nbformat_minor": 0,
  "metadata": {
    "colab": {
      "provenance": []
    },
    "kernelspec": {
      "name": "python3",
      "display_name": "Python 3"
    },
    "language_info": {
      "name": "python"
    }
  },
  "cells": [
    {
      "cell_type": "markdown",
      "source": [
        "Amsterdam is a city with a large variety of flowers with several florists connected by bidirectional roads, each of which has a travel time. Each of the floristry may sell one or more kinds of flowers. Frank and Gorgi are brothers, and their mother is under a spell that will be broken by a bouquet of **k** different flower that **k** is the number of all types of flowers which are available in florists Amsterdam."
      ],
      "metadata": {
        "id": "hZ74tkwDM9n4"
      }
    },
    {
      "cell_type": "markdown",
      "source": [
        "At first, Frank and Gorgi are at floristry 1 (each of the florists is numbered consecutively from 1 to **n**), and according to the situation, they should collect all types of flowers, and in order to save time, they will divide the list of flowers between them. Determine the total travel time for the boys to purchase all types of flowers, finally meeting at floristry **n**. Their paths may intersect, they may backtrack through floristry **n**, and one may arrive at a different time than the other. The minimum time to determine is when both have arrived at the destination."
      ],
      "metadata": {
        "id": "nPuty7uzM-xI"
      }
    },
    {
      "cell_type": "markdown",
      "source": [
        "For example,  there are **n = 5** florists selling **k = 3** types of flowers. The following graph shows a possible layout of the florists connected by **m = 5** paths. Each of nodes is labeled **floristry number / flower types offered / boy(s) that visit(s)**. Here **F** and **G** represent Frank and Gorgi, respectively. In this example, both of boys take the same path, i.e. **1 &#8594; 3 &#8594; 5** and arrive at time **15 + 5 = 20** having purchased all three types of flowers. Neither of them visits floristry **2** or **4**. <br/>\n",
        "<img src=\"Images/Blank_diagram.png\" width=\"400\"/>"
      ],
      "metadata": {
        "id": "sEgjXM2UNBdH"
      }
    },
    {
      "cell_type": "markdown",
      "source": [
        "## Input Format"
      ],
      "metadata": {
        "id": "cYJg29YjNDw3"
      }
    },
    {
      "cell_type": "markdown",
      "source": [
        "The first line contains 3 space-seperated integers: <br/>\n",
        "**n**(the number of floristries in Amsterdam), **m**(the number of roads), and **k**(the number of flower types sold in Amsterdam), respectively.<br/>\n",
        "Each line **i** of the **n** subsequent lines ($1 \\leq i \\leq n$) describes a floristry as a line of space separated integers. Each line takes the following form: <br/>\n",
        "   * The first integer, $t_i$, denotes the number of flower types that are sold at floristry **i**.\n",
        "   * Each of the $t_i$ subsequent integers on the line describes a type of flower sold at floristry **i**, denoted by $S_{ij}$, where $1 \\leq j \\leq t_i$\n",
        "\n",
        "Each line **z** of the **m** subsequent lines ($1 \\leq j \\leq m$) contains 3 space-separated integers that describe a road. The first two integers, $u_z$ and $v_z$, describe the two florists it connects. The third integer, $w_z$, denotes the amount of time it takes to travel the road."
      ],
      "metadata": {
        "id": "Xv8l045LNEq-"
      }
    },
    {
      "cell_type": "markdown",
      "source": [
        "## Constraints\n",
        "\n",
        "* $ 2 \\leq n \\leq 10^3 $\n",
        "* $ 1 \\leq m \\leq 2 \\times 10^3 $\n",
        "* $ 1 \\leq k \\leq 10 $\n",
        "* $ 0 \\leq t_i \\leq k $\n",
        "* $ 1 \\leq S_{ij} \\leq k $\n",
        "* All $S_{ij}$ are different for every fixed *i*\n",
        "* $ 1 \\leq u_z , v_z \\leq n $\n",
        "* $ 1 \\leq w_z \\leq 10^4 $\n",
        "* Each road connects 2 distinct florists.\n",
        "* Each pair of florists is directly connected by no more than 1 road.\n",
        "* It's possible to get to any floristry from any other florist.\n",
        "* Each type of flower is always sold by at least one florist."
      ],
      "metadata": {
        "id": "TI01WF7NNF6f"
      }
    },
    {
      "cell_type": "markdown",
      "source": [
        "## Output Format"
      ],
      "metadata": {
        "id": "lwtrv3EBNHHR"
      }
    },
    {
      "cell_type": "markdown",
      "source": [
        "Print the minimum amount of time it'll take for the boys to collectively purchase all **k** types of flowers and meet up at florist **n**."
      ],
      "metadata": {
        "id": "AfCzaE62NIZg"
      }
    },
    {
      "cell_type": "markdown",
      "source": [
        "## Sample Input"
      ],
      "metadata": {
        "id": "k8dN7pqFNK5H"
      }
    },
    {
      "cell_type": "markdown",
      "source": [
        "5 5 5 <br/>\n",
        "1 1 <br/>\n",
        "1 2 <br/>\n",
        "1 3 <br/>\n",
        "1 4 <br/>\n",
        "1 5 <br/>\n",
        "1 2 10 <br/>\n",
        "1 3 10 <br/>\n",
        "2 4 10 <br/>\n",
        "3 5 10 <br/>\n",
        "4 5 10"
      ],
      "metadata": {
        "id": "sXAho3o1NMYf"
      }
    },
    {
      "cell_type": "markdown",
      "source": [
        "## Sample Output"
      ],
      "metadata": {
        "id": "UCgXQaDdNNrY"
      }
    },
    {
      "cell_type": "markdown",
      "source": [
        "30"
      ],
      "metadata": {
        "id": "M2dUOXfrNPUH"
      }
    },
    {
      "cell_type": "markdown",
      "source": [
        "## Explanation"
      ],
      "metadata": {
        "id": "o-GKYS5sToiK"
      }
    },
    {
      "cell_type": "markdown",
      "source": [
        "<img src=\"Images/diagram2.png\" width=\"400\"/>\n",
        "<br/>\n",
        "Frank can travel $1 \\rightarrow 2 \\rightarrow 4 \\rightarrow 5$ and buy flower at all of the florists on his way. <br/>\n",
        "Gorgi can travel $1 \\rightarrow 3 \\rightarrow 5$, and buy flower from the third florists only."
      ],
      "metadata": {
        "id": "8pCGNO1UTr6I"
      }
    },
    {
      "cell_type": "markdown",
      "source": [
        "Now, You should implement the function **solve**.\n",
        "<br/> At last, Pay Attention that you have a **time limit of 9s** for each test that if your code exceeds that limit for any of these tests, you'll get **FAIL** for that test."
      ],
      "metadata": {
        "id": "5FpQI8MlTtKp"
      }
    },
    {
      "cell_type": "code",
      "source": [
        "def solve(N, M, K, NUMS, roads): \n",
        "    queue = []\n",
        "    delay_queue = []\n",
        "    recieved_flower = []\n",
        "    Adjacent_M = np.ones((N,N))*np.inf\n",
        "    for i in range(M):\n",
        "        road = roads[i]\n",
        "        Adjacent_M[int(road[0])-1,int(road[1])-1] = road[2]\n",
        "        Adjacent_M[int(road[1])-1,int(road[0])-1] = road[2]\n",
        "    if NUMS[0][0]==0:\n",
        "        First_item = [0,set(),0]\n",
        "    elif NUMS[0][0]==1:\n",
        "        First_item = [0,set([NUMS[0][1]]),0]\n",
        "    else:\n",
        "        First_item = [0,set(NUMS[0][1:]),0]\n",
        "    queue.append(First_item)\n",
        "    delay_queue.append(0)\n",
        "    while (len(queue)!=0):\n",
        "        r = np.array(delay_queue).argmin()\n",
        "        req = queue.pop(r)\n",
        "        d = delay_queue.pop(r)\n",
        "        node = req[0]\n",
        "        flower_set = req[1]\n",
        "        delay = req[2]\n",
        "        if node != N-1:\n",
        "            roads = Adjacent_M[node].copy()\n",
        "            num_roads = sum(roads!=np.inf)\n",
        "            for i in range(num_roads):\n",
        "                index = roads.argmin()\n",
        "                new_node = index\n",
        "                new_flower_set = flower_set\n",
        "                if NUMS[index][0]==1:\n",
        "                    new_flower_set = set.union(flower_set, set([NUMS[index][1]]))\n",
        "                elif NUMS[index][0]!=0:\n",
        "                    new_flower_set = set.union(flower_set, set(NUMS[index][1:]))\n",
        "                new_delay = delay + Adjacent_M[node,new_node]\n",
        "                new_req = [new_node,new_flower_set,new_delay,node]\n",
        "                if len(queue)==0:\n",
        "                    queue.append(new_req)\n",
        "                    delay_queue.append(new_delay)\n",
        "                elif new_req not in queue:\n",
        "                    queue.append(new_req)\n",
        "                    delay_queue.append(new_delay)\n",
        "                roads[index]=np.inf\n",
        "        else:\n",
        "            recieved_flower.append(flower_set)\n",
        "            if len(flower_set) == K:\n",
        "                return delay\n",
        "            list_len = len(recieved_flower)\n",
        "            for i in range(list_len-1):\n",
        "                new_set = set.union(recieved_flower[-1], recieved_flower[i])\n",
        "                if len(new_set) == K:\n",
        "                    return delay"
      ],
      "metadata": {
        "id": "HZbzyt2cTuGI"
      },
      "execution_count": null,
      "outputs": []
    },
    {
      "cell_type": "markdown",
      "source": [
        "## Grading"
      ],
      "metadata": {
        "id": "UGCRUmeJTvlJ"
      }
    },
    {
      "cell_type": "markdown",
      "source": [
        "By Running the below cell, you'd test your code with 10 test cases we gave to you, But be aware that there are more tests that will determine your grade in addition to these ten tests."
      ],
      "metadata": {
        "id": "mZTKlohMTxFB"
      }
    },
    {
      "cell_type": "code",
      "source": [
        "import time\n",
        "import numpy as np\n",
        "pass_count = 0\n",
        "test_count = 10\n",
        "Time_Limit = 9\n",
        "recieved_req = []\n",
        "#for i in range(test_count):\n",
        "for i in range(test_count):\n",
        "    print(\"Test\", (i + 1))\n",
        "    file_in_name = \"In\" + str(i + 1)\n",
        "    file_out_name = \"Out\" + str(i + 1)\n",
        "    f = open(\"Inputs/\" + file_in_name + \".txt\", 'r')\n",
        "    N, M, K = map(int, f.readline().split())\n",
        "    NUMS = []\n",
        "    roads = []\n",
        "    for i in range(N):\n",
        "        nums = list(map(int, f.readline().split()))\n",
        "        NUMS.append(nums)\n",
        "    for i in range(M):\n",
        "        road = list(map(int, f.readline().split()))\n",
        "        roads.append(road)\n",
        "    start_time = time.time()\n",
        "    result = solve(N, M, K, NUMS, roads)\n",
        "    end_time = time.time()\n",
        "    f_out = open(\"Outputs/\" + file_out_name + \".txt\", 'r')\n",
        "    true_output = int(f_out.read())\n",
        "    if result == true_output and Time_Limit >= end_time - start_time:\n",
        "        print(\"PASS.\", \"Your answer which is True: \", result, \". Time consumed: \", end_time - start_time, \"s\")\n",
        "        pass_count += 1\n",
        "    else:\n",
        "        print(\"FAIL!\", \"your minimum time: \", result, \"True answer: \", true_output, \". Time consumed: \", end_time - start_time, \"s\")\n",
        "        \n",
        "print(\"Percentage of success: \", (pass_count / test_count) * 100)"
      ],
      "metadata": {
        "id": "ZymSU8jvTyHB"
      },
      "execution_count": null,
      "outputs": []
    }
  ]
}