{
  "nbformat": 4,
  "nbformat_minor": 0,
  "metadata": {
    "colab": {
      "provenance": [],
      "collapsed_sections": []
    },
    "kernelspec": {
      "name": "python3",
      "display_name": "Python 3"
    },
    "language_info": {
      "name": "python"
    }
  },
  "cells": [
    {
      "cell_type": "code",
      "execution_count": null,
      "metadata": {
        "id": "6iFe1HvNUrgG"
      },
      "outputs": [],
      "source": [
        "def Find_Nearest(box,storages,restrictions,method):\n",
        "    remain_storages = []\n",
        "    for s in storages:\n",
        "        if (restrictions is not None):\n",
        "            if {s} not in restrictions:\n",
        "                remain_storages.append(s)\n",
        "        else:\n",
        "            remain_storages.append(s)\n",
        "    remain_storages = np.array(remain_storages)\n",
        "    box = np.array(box)\n",
        "    if method == 'manhattan_distance':\n",
        "        best_h = np.sum(np.abs(box-remain_storages[0]))\n",
        "        for i in range(1,len(remain_storages)):\n",
        "            h = np.sum(np.abs(box-remain_storages[i]))\n",
        "            if h<best_h:\n",
        "                best_h = h\n",
        "    elif method == 'euclidean_distance':\n",
        "        best_h = np.sum((box-remain_storages[0])**2)\n",
        "        for i in range(1,len(remain_storages)):\n",
        "            h = np.sum((box-remain_storages[i])**2)\n",
        "            if h<best_h:\n",
        "                best_h = h\n",
        "    return best_h "
      ]
    },
    {
      "cell_type": "markdown",
      "source": [
        "In this Problem, We want to use A* algorithm to present a solution for an interesting game that we called it, Push Till Redemption. :) <br/>\n",
        "First, we introduce you to some major features of this game. <br/>"
      ],
      "metadata": {
        "id": "jbULOS-ZUsHy"
      }
    },
    {
      "cell_type": "markdown",
      "source": [
        "In this game, we have a map with **M** $\\times$ **N** dimensions covered by a one-layer wall. i.e., The **M-2** $\\times$ **N-2** rectangle in the middle is our usable map. <br/>\n",
        "There are some boxes whose primary coordinates are specified at the start point, and also There are some specified cells which we call storage, and the most important thing is that we have an agent in this game that should push the boxes to locate them in the storage cells. In the general format of the game, each box can be placed in each storage, but sometimes our boxes may have restrictions. i.e., A specified box must be placed at specified storage. <br/>\n",
        "And the last feature of this game is its obstacles; We may have some fixed obstacles in some cells of the map, which our agent can't move to cells grides and obviously can't push the boxes to those cells too.."
      ],
      "metadata": {
        "id": "Z8ibqdAcUwlZ"
      }
    },
    {
      "cell_type": "markdown",
      "source": [
        "For better inrtoduction, take a look at these two pictures. <br/>\n",
        "  <img src=\"Images/map1.png\" alt=\"example1\" style=\"float: left; margin-left: 120px; width:200px;height:300px;\"/>\n",
        "  <img src=\"Images/map2.png\"  style=\"float: left; margin-left: 250px; width:200px;height:300px;\"/>"
      ],
      "metadata": {
        "id": "YDDUrZT_UyD4"
      }
    },
    {
      "cell_type": "markdown",
      "source": [
        "First, we should introduce symbols used in maps, In this Game, We use **#** for walls and obstacles, $*$ for boxes, **?** for the location of the agent, **-** for storage cell, and if our map had some restrictions, we highlight both the box and its corresponding storage cell with the same color. <br/>"
      ],
      "metadata": {
        "id": "DEbFJQxSUzSB"
      }
    },
    {
      "cell_type": "markdown",
      "source": [
        "For more clarification, we give an example for defining the state of the game at the start point. Pay attention that this example corresponds to the left map. <br/>\n",
        "**An important point about defining state in this game is that we ignore border wall (i.e., two columns and two rows) in our input dimensions or coordinates.** <br/>\n",
        "Don't worry if you don't understand the meaning of some of these inputs or have some questions about them; They're completely explained if they were needed."
      ],
      "metadata": {
        "id": "8cunq_JEU0gR"
      }
    },
    {
      "cell_type": "markdown",
      "source": [
        "State(\"START\", 0, None, 4, 4,  # dimensions <br/>\n",
        "&nbsp;&nbsp;&nbsp;                (0, 3),  # agent <br/>\n",
        "&nbsp;&nbsp;&nbsp;                {(1, 2): 0, (1, 1): 1},  # boxes <br/>\n",
        "&nbsp;&nbsp;&nbsp;                {(2, 1): 0, (2, 2): 1},  # storage <br/>\n",
        "&nbsp;&nbsp;&nbsp;                frozenset(((0, 0), (1, 0), (3, 3))),  # obstacles <br/>\n",
        "&nbsp;&nbsp;&nbsp;                (frozenset(((2, 1),)), frozenset(((2, 2),))),  # restrictions, <br/>\n",
        "&nbsp;&nbsp;&nbsp;                {0: 'cyan', 1: 'magenta'},  # box colours <br/>\n",
        "&nbsp;&nbsp;&nbsp;                {0: 'cyan', 1: 'magenta'}  # storage colours <br/>\n",
        "&nbsp;&nbsp;&nbsp;                )"
      ],
      "metadata": {
        "id": "dT459u-1U1yQ"
      }
    },
    {
      "cell_type": "markdown",
      "source": [
        "You should implement an A* algorithm to solve this search problem and win the game in this question."
      ],
      "metadata": {
        "id": "zC46eMrRU3NR"
      }
    },
    {
      "cell_type": "markdown",
      "source": [
        "In this problem, we provide you with some of the files to complete the functionality of the game, which you can check out as you want to know more about this game and its properties. Still, for completing this task properly, It's not necessary to check them out, and this jupyter file contains sufficient description. Besides, We provide you with some of the functions to solve the problem. Some of them are complete, but some are incomplete, and you should complete them."
      ],
      "metadata": {
        "id": "il_zmE2CU4eJ"
      }
    },
    {
      "cell_type": "markdown",
      "source": [
        "## Prerequisites"
      ],
      "metadata": {
        "id": "ZA8pCT6lU5vi"
      }
    },
    {
      "cell_type": "code",
      "source": [
        "import numpy as np\n",
        "import math\n",
        "from Helper_codes.search import *\n",
        "from Helper_codes.sokoban import PROBLEMS, sokoban_goal_state"
      ],
      "metadata": {
        "id": "momQwObfU7fh"
      },
      "execution_count": null,
      "outputs": []
    },
    {
      "cell_type": "markdown",
      "source": [
        "## Heuristics"
      ],
      "metadata": {
        "id": "Gp5PcF2tU8-o"
      }
    },
    {
      "cell_type": "markdown",
      "source": [
        "In this section, we want to investigate three different heuristics. So we explain all requirements, and you should implement these heuristics. <br/>\n",
        "These functions should take a game state and Return a numeric value that serves as an estimate of the state's distance to the goal. <br/>\n",
        "Each state has components like **boxes** and **storage**. <br/>\n",
        "**boxes:** A dictionary where the keys are the coordinates of each box, and the values are the index of that box which is equal to the index of that box's list of restrictions if it has restrictions. <br/>\n",
        "**storage:** A dictionary where the keys are the coordinates of each storage point, and the values are the index of that storage point."
      ],
      "metadata": {
        "id": "bOe599_nU-zK"
      }
    },
    {
      "cell_type": "markdown",
      "source": [
        "### A. Displaced Boxes"
      ],
      "metadata": {
        "id": "rxqHs8Z7VFJy"
      }
    },
    {
      "cell_type": "code",
      "source": [
        "def heur_displaced(state):\n",
        "    storage = state.storage\n",
        "    storage_keys = list(storage.keys())\n",
        "    storage_vals = list(storage.values())\n",
        "    boxes = state.boxes\n",
        "    boxes_keys = list(boxes.keys())\n",
        "    boxes_vals = list(boxes.values())\n",
        "    restrictions = state.restrictions\n",
        "    h = 0\n",
        "    if (restrictions is not None):\n",
        "        for k in storage.keys():\n",
        "                if ({k} in restrictions):\n",
        "                    if boxes_keys[storage_keys.index(k)] != k:\n",
        "                        h += 1 \n",
        "                else: \n",
        "                    if (k in boxes_keys):\n",
        "                        if {storage_keys[boxes_keys.index(k)]} != restrictions[storage_vals[boxes_keys.index(k)]]:\n",
        "                            h += 1\n",
        "                    else:\n",
        "                        h += 1\n",
        "    else:\n",
        "        for k in storage.keys():\n",
        "            if (k not in boxes_keys):\n",
        "                h += 1\n",
        "    return h"
      ],
      "metadata": {
        "id": "2nd1LlFBVGhw"
      },
      "execution_count": null,
      "outputs": []
    },
    {
      "cell_type": "markdown",
      "source": [
        "Each state has a component named **restrictions**, a tuple of frozensets of valid storage coordinates for each box. **None** means that all storage locations are valid for each box. Also we know that index of each frozenset in this tuple (**state.restrictions**), is the value of corresponding **box** in dictionary of **state.boxes** . I recommend taking another look at the sample of states defining above."
      ],
      "metadata": {
        "id": "RYMXD3wWVHvI"
      }
    },
    {
      "cell_type": "markdown",
      "source": [
        "Now with these explanations, you should implement Manhattan Distance and Euclidean Distance Heuristics."
      ],
      "metadata": {
        "id": "y8fZTDx1VI6p"
      }
    },
    {
      "cell_type": "markdown",
      "source": [
        "### B. Manhattan Distance"
      ],
      "metadata": {
        "id": "FldJlaMvVKOZ"
      }
    },
    {
      "cell_type": "code",
      "source": [
        "def heur_manhattan_distance(state):\n",
        "    storage = state.storage\n",
        "    storage_keys = list(storage.keys())\n",
        "    storage_vals = list(storage.values())\n",
        "    boxes = state.boxes\n",
        "    boxes_keys = list(boxes.keys())\n",
        "    boxes_vals = list(boxes.values())\n",
        "    restrictions = state.restrictions\n",
        "    h = 0\n",
        "    if (restrictions is not None):\n",
        "         for k in boxes.keys():\n",
        "                if ({storage_keys[storage_vals.index(boxes_keys.index(k))]} in restrictions):\n",
        "                    x0 = k \n",
        "                    x1 = storage_keys[storage_vals.index(boxes_keys.index(k))]\n",
        "                    h += np.sum(np.abs(np.array(x0)-np.array(x1)))\n",
        "                else:\n",
        "                    x0 = k \n",
        "                    h += Find_Nearest(x0,storage_keys,restrictions,'manhattan_distance')\n",
        "    else:\n",
        "        for k in boxes.keys():\n",
        "            x0 = k\n",
        "            h += Find_Nearest(x0,storage_keys,restrictions,'manhattan_distance')\n",
        "    return h"
      ],
      "metadata": {
        "id": "mZAwRaQiVLXK"
      },
      "execution_count": null,
      "outputs": []
    },
    {
      "cell_type": "markdown",
      "source": [
        "### C. Euclidean Distance"
      ],
      "metadata": {
        "id": "QPVDrPQEVNOQ"
      }
    },
    {
      "cell_type": "code",
      "source": [
        "def heur_euclidean_distance(state):  \n",
        "    storage = state.storage\n",
        "    storage_keys = list(storage.keys())\n",
        "    storage_vals = list(storage.values())\n",
        "    boxes = state.boxes\n",
        "    boxes_keys = list(boxes.keys())\n",
        "    boxes_vals = list(boxes.values())\n",
        "    restrictions = state.restrictions\n",
        "    h = 0\n",
        "    if (restrictions is not None):\n",
        "         for k in boxes.keys():\n",
        "                if ({storage_keys[storage_vals.index(boxes_keys.index(k))]} in restrictions):\n",
        "                    x0 = k \n",
        "                    x1 = storage_keys[storage_vals.index(boxes_keys.index(k))]\n",
        "                    h += np.sum(np.abs(np.array(x0)-np.array(x1)))\n",
        "                else:\n",
        "                    x0 = k \n",
        "                    h += Find_Nearest(x0,storage_keys,restrictions,'euclidean_distance')\n",
        "    else:\n",
        "        for k in boxes.keys():\n",
        "            x0 = k\n",
        "            h += Find_Nearest(x0,storage_keys,restrictions,'euclidean_distance')\n",
        "    return h"
      ],
      "metadata": {
        "id": "aRUocIfIVORp"
      },
      "execution_count": null,
      "outputs": []
    },
    {
      "cell_type": "markdown",
      "source": [
        "## Testing Heuristics"
      ],
      "metadata": {
        "id": "p2sqRC_UVPvp"
      }
    },
    {
      "cell_type": "markdown",
      "source": [
        "In the given files, The common version of A* algorithm is available. By running the cells below, you could see the game's result for some different game states, which are ready for you through **PROBLEMS** and actually for different kinds of heuristics."
      ],
      "metadata": {
        "id": "Dp2FsPAKVRl6"
      }
    },
    {
      "cell_type": "code",
      "source": [
        "def common_astar(heur_func, P_flag):    \n",
        "    solved = 0\n",
        "    unsolved = []\n",
        "    counter = 0\n",
        "    percent = 0\n",
        "    print_path = P_flag\n",
        "    timebound = 2  # 2 second time limit for each problem\n",
        "    print(\"*************************************\")\n",
        "    print(\"Running A-star with\" + str(heur_func) + \"Heuristic\")\n",
        "\n",
        "    for i in range(0, 10):  # note that there are 40 problems in the set that has been provided.  We just run through 10 here for illustration.\n",
        "        print(\"*************************************\")\n",
        "        print(\"PROBLEM {}\".format(i))\n",
        "\n",
        "        s0 = PROBLEMS[i]  # Problems will get harder as i gets bigger\n",
        "\n",
        "        se = SearchEngine('astar', 'full')\n",
        "        se.init_search(s0, goal_fn=sokoban_goal_state, heur_fn=heur_func)\n",
        "        final = se.search(timebound)\n",
        "        \n",
        "        if final:\n",
        "            solved += 1\n",
        "            if print_path:\n",
        "                final.print_path()\n",
        "            \n",
        "        else:\n",
        "            unsolved.append(i)\n",
        "        counter += 1\n",
        "\n",
        "    if counter > 0:\n",
        "        percent = (solved / counter) * 100\n",
        "\n",
        "    print(\"*************************************\")\n",
        "    print(\"{} of {} problems ({} %) solved in less than {} seconds.\".format(solved, counter, percent, timebound))\n",
        "    print(\"Problems that remain unsolved in the set are Problems: {}\".format(unsolved))\n",
        "    print(\"*************************************\")"
      ],
      "metadata": {
        "id": "hyc819MAVSpi"
      },
      "execution_count": null,
      "outputs": []
    },
    {
      "cell_type": "markdown",
      "source": [
        "Notice that the **common_astart** function get two inputs, one for determining the heuristic function and another boolean input, determines whether the final path of the solution needs to be drawn or not, So if you want to check the steps of the game, you should change that field to **True**."
      ],
      "metadata": {
        "id": "soBp-uJGVUBr"
      }
    },
    {
      "cell_type": "code",
      "source": [
        "common_astar(heur_displaced, False)"
      ],
      "metadata": {
        "id": "oNmBCtXyVVPJ"
      },
      "execution_count": null,
      "outputs": []
    },
    {
      "cell_type": "code",
      "source": [
        "common_astar(heur_manhattan_distance, False)"
      ],
      "metadata": {
        "id": "_Rx6bodGVWZy"
      },
      "execution_count": null,
      "outputs": []
    },
    {
      "cell_type": "code",
      "source": [
        "common_astar(heur_euclidean_distance, False)"
      ],
      "metadata": {
        "id": "1nCFy-31VXzL"
      },
      "execution_count": null,
      "outputs": []
    },
    {
      "cell_type": "markdown",
      "source": [
        "Now that you have seen how your three heuristics perform in action, Please compare these three different heuristic functions from various aspects like **Search Time, Expanded Nodes, etc.** <br/>\n",
        "I want you to feel free about this comparison and act as you like. For example, you can just explain your points of view in the below cell or compare the performance of these three heuristic functions with some kind of charts or graphs and explain a little about your deduction. (There's no restriction about the type of charts or graphs)."
      ],
      "metadata": {
        "id": "Ory1oYdOVZH5"
      }
    },
    {
      "cell_type": "code",
      "source": [
        "x_val = ['Displaced','Manhattan','Euclidean']\n",
        "fig, axs = plt.subplots(1, 3, figsize=(15, 6))\n",
        "Search_Time = np.zeros(3)\n",
        "Search_Time[0] = 0.09375 + 0.46875 + 0.390625 + 0.484375 + 0.421875 + 0.375 \n",
        "Search_Time[1] = 0.15625 + 0.6875 + 0.578125 + 1.28125 + 1.4375 + 1.546875 \n",
        "Search_Time[2] = 0.140625 + 0.53125 + 0.625 + 1.125 + 1.875 + 1.765625\n",
        "axs[0].bar(x_val, Search_Time)\n",
        "axs[0].title.set_text('Search Time')\n",
        "Expanded_Nodes = np.zeros(3)\n",
        "Expanded_Nodes[0] = 2630 + 10589 + 12827 + 16990 + 15705 + 15075\n",
        "Expanded_Nodes[1] = 2358 + 10230 + 10653 + 8876 + 14254 + 14254\n",
        "Expanded_Nodes[2] = 2358 + 10230 + 10653 + 7370 + 15251 + 15251\n",
        "axs[1].bar(x_val, Expanded_Nodes)\n",
        "axs[1].title.set_text('Expanded Nodes')\n",
        "axs[2].bar(x_val, [60,60,60])\n",
        "axs[2].title.set_text('Percentage of  solved problems in less than 2 seconds')\n",
        "axs[2].set_ylim([0, 100])\n",
        "fig.suptitle('Heuristics Perform')"
      ],
      "metadata": {
        "id": "99I46X1lVaL6"
      },
      "execution_count": null,
      "outputs": []
    },
    {
      "cell_type": "markdown",
      "source": [
        "## Anytime weighted A*"
      ],
      "metadata": {
        "id": "BHx6Q69KVcQT"
      }
    },
    {
      "cell_type": "markdown",
      "source": [
        "In this section, We want you to implement another A* algorithm which is named **anytime weighted A*** in this algorithm, and we take the initial state of the game, heuristic function, weight, and timebound as inputs which **weight** is the factor which determines the impact of heuristic in calculating f_value (g + w\\*h) and **timebound** is the number of seconds that we have for running this algorithm. And Output of this function is a **goal state of search** (if a goal is found), else **FALSE**. <br/>\n",
        "In this version of A*, we aim to find the optimal path and optimal goal. So while there is time, we call the search method of the search engine (**se**) and we look for a path with minimum cost and to save time, We use cost-bounder to prune states which have bigger f_value than the best path cost we found so far. Costbounder is a three tuple that is like (g_val, h_val, g_val + h_val) which each of these 3 are like limit for pruning successor state. Please pay attention that in this version, we prune only when the current final f is larger than best_path_cost<br/>\n",
        "As you can see in the function below, first we save the f_value function, which is affected by weight, into **wrapped_fval_function** then we make a search engine and call its **init_search**. <br/>\n",
        "For calculating goal value to compare with best path cost that was found, We use **final.gval + heur_fn(final)** which **final** is the goal state in case is found."
      ],
      "metadata": {
        "id": "UEcVFqPqVdr6"
      }
    },
    {
      "cell_type": "code",
      "source": [
        "def fval_function(sN, weight):\n",
        "    \"\"\"\n",
        "    Provide a custom formula for f-value computation for Anytime Weighted A star.\n",
        "    Returns the fval of the state contained in the sNode.\n",
        "\n",
        "    @param sNode sN: A search node (containing a SokobanState)\n",
        "    @param float weight: Weight given by Anytime Weighted A star\n",
        "    @rtype: float\n",
        "    \"\"\"\n",
        "\n",
        "    return sN.gval + weight * sN.hval"
      ],
      "metadata": {
        "id": "EdnRrqd6Ve3J"
      },
      "execution_count": null,
      "outputs": []
    },
    {
      "cell_type": "code",
      "source": [
        "def anytime_weighted_astar(initial_state, heur_fn, weight=1., timebound=10):\n",
        "    # initialization\n",
        "    best_path_cost = float(\"inf\")\n",
        "    time_remain = 8\n",
        "    iter = 0\n",
        "\n",
        "    wrapped_fval_function = (lambda sN: fval_function(sN, weight))\n",
        "    se = SearchEngine('custom', 'full')\n",
        "    se.init_search(initial_state, sokoban_goal_state, heur_fn, wrapped_fval_function)\n",
        "\n",
        "    while (time_remain > 0) and not se.open.empty():\n",
        "        ################################################\n",
        "        # (4 Points)                                   #\n",
        "        # Complete this loop                           #\n",
        "        # with information we gave you before.         #\n",
        "        ################################################\n",
        "        pass\n",
        "    try:\n",
        "        return optimal_final\n",
        "    except:\n",
        "        return final\n",
        "\n",
        "    return False"
      ],
      "metadata": {
        "id": "zJ_1ux5kVfwh"
      },
      "execution_count": null,
      "outputs": []
    },
    {
      "cell_type": "markdown",
      "source": [
        "## Running the Game"
      ],
      "metadata": {
        "id": "tqT2REYBVhSh"
      }
    },
    {
      "cell_type": "code",
      "source": [
        "def run_astar(P_flag):\n",
        "    solved = 0\n",
        "    unsolved = []\n",
        "    counter = 0\n",
        "    percent = 0\n",
        "    print_path = P_flag\n",
        "    timebound = 8  # 8 second time limit\n",
        "    print(\"Running Anytime Weighted A-star\")\n",
        "\n",
        "    for i in range(0, 10):\n",
        "        print(\"*************************************\")\n",
        "        print(\"PROBLEM {}\".format(i))\n",
        "\n",
        "        s0 = PROBLEMS[i]  # Problems get harder as i gets bigger\n",
        "        weight = 10\n",
        "        final = anytime_weighted_astar(s0, heur_fn=heur_displaced, weight=weight, timebound=timebound)\n",
        "\n",
        "        if final:\n",
        "            solved += 1\n",
        "            if print_path:\n",
        "                final.print_path()\n",
        "        else:\n",
        "            unsolved.append(i)\n",
        "        counter += 1\n",
        "\n",
        "    if counter > 0:\n",
        "        percent = (solved / counter) * 100\n",
        "\n",
        "    print(\"*************************************\")\n",
        "    print(\"{} of {} problems ({} %) solved in less than {} seconds.\".format(solved, counter, percent, timebound))\n",
        "    print(\"Problems that remain unsolved in the set are Problems: {}\".format(unsolved))\n",
        "    print(\"*************************************\")"
      ],
      "metadata": {
        "id": "8mr_jo8SVina"
      },
      "execution_count": null,
      "outputs": []
    },
    {
      "cell_type": "markdown",
      "source": [
        "Notice that the **run_astart** function get one input which is boolean. It determines whether the solution's final path is drawn or not, So if you want to check the steps of the game, you should change that field to **True**."
      ],
      "metadata": {
        "id": "OBVLtQLjVjx5"
      }
    },
    {
      "cell_type": "code",
      "source": [
        "run_astar(False)"
      ],
      "metadata": {
        "id": "6lCuG0k1Vlbx"
      },
      "execution_count": null,
      "outputs": []
    },
    {
      "cell_type": "markdown",
      "source": [
        "Compare these versions of the A* algorithm with the common version you knew before and mention its advantages."
      ],
      "metadata": {
        "id": "JwX6anOPVnPB"
      }
    }
  ]
}