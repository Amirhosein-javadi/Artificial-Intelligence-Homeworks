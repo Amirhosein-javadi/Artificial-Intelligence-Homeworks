{
  "nbformat": 4,
  "nbformat_minor": 0,
  "metadata": {
    "colab": {
      "provenance": [],
      "collapsed_sections": []
    },
    "kernelspec": {
      "name": "python3",
      "display_name": "Python 3"
    },
    "language_info": {
      "name": "python"
    }
  },
  "cells": [
    {
      "cell_type": "markdown",
      "source": [
        "In This Problem, We want to investigate the minimum vertex cover problem. Informally, A vertex cover is a subset of vertices that cover all the edges. i.e., for each edge, there exists an endpoint in the vertex cover. A minimum vertex cover is a vertex cover with the least amount of vertices possible.\n"
      ],
      "metadata": {
        "id": "LKSzWqPjVy_Z"
      }
    },
    {
      "cell_type": "markdown",
      "source": [
        "The Formal definition of the problem is as follows:\n",
        "A vertex cover $V'$ of an undirected graph $G = (V,E)$ is a subset of $V$ such that for all edge $uv \\in E \\Rightarrow u \\in V' \\vee v \\in V'$. The vertex cover with the smallest possible size is called the minimum vertex cover."
      ],
      "metadata": {
        "id": "Vnh_YrPPV04Q"
      }
    },
    {
      "cell_type": "markdown",
      "source": [
        "Minimum vertex cover is a famous NP-Hard optimization problem. It means that we currently don't have any polynomial-time algorithm for this problem, and we will most likely never have such an algorithm unless $P = NP$. Therefore it is reasonable to use optimization algorithms like local search to find an approximate but not necessarily perfect answer."
      ],
      "metadata": {
        "id": "w4SQRFYeV1wi"
      }
    },
    {
      "cell_type": "markdown",
      "source": [
        "In this question and the next one, you should implement two different local search techniques to solve this problem: Simulated Annealing for this question and the Genetic Algorithm for the next one."
      ],
      "metadata": {
        "id": "EhPiCkl6V2y4"
      }
    },
    {
      "cell_type": "markdown",
      "source": [
        "In this problem, we provide you some of the functions to solve the problem. Some of them are complete, but some are incomplete, and you should complete them."
      ],
      "metadata": {
        "id": "Az9VXtJ_V3vc"
      }
    },
    {
      "cell_type": "markdown",
      "source": [
        "## Libraries"
      ],
      "metadata": {
        "id": "src1grEBV4vo"
      }
    },
    {
      "cell_type": "code",
      "source": [
        "import numpy as np\n",
        "from math import exp\n",
        "import random\n",
        "import matplotlib.pyplot as plt\n",
        "import math"
      ],
      "metadata": {
        "id": "afOzlHHuV5zj"
      },
      "execution_count": null,
      "outputs": []
    },
    {
      "cell_type": "markdown",
      "source": [
        "## Graph Data\n",
        "There is a file named **create_graph.py** beside this jupyter notebook. You can generate multiple types of networks by running the file using the syntax below. It is **not** mandatory and does not have any additional score. It is just for you to test your code to see whether it works or not.\n",
        "```\n",
        "python create_graph.py\n",
        "```\n",
        "Make sure that you have the dependencies installed, especially networkx version: 2.5.1+. You can use `pip`  to install the newest version of networkx using\n",
        "```\n",
        "pip install networkx\n",
        "```\n",
        "Also, you may want to change variables m2n and n in `create_graph.py`.\n",
        "\n",
        "n is the number of nodes. m2n is roughly equal to the number of edges divided by the number of nodes.\n",
        " "
      ],
      "metadata": {
        "id": "7173IuetV7aQ"
      }
    },
    {
      "cell_type": "markdown",
      "source": [
        "## Reading graph data"
      ],
      "metadata": {
        "id": "A9ygzEB-V-1x"
      }
    },
    {
      "cell_type": "markdown",
      "source": [
        "We provide graph data in '.txt' files as an adjacency matrix. The first line indicates $n$, the number of vertices. The following $n$ lines each contain $n$ comma-separated numbers. Consider $d_{ij}$ to be the number in $i$th row and $j$th column. It is $1$ if and only if there is an edge between node $i$ and $j$, and $0$ otherwise. The function is provided completely for your comfort, and you don't need to change it."
      ],
      "metadata": {
        "id": "QlIXvNArWAg8"
      }
    },
    {
      "cell_type": "code",
      "source": [
        "\"\"\"\n",
        "No need to change this cell. You can change \"./Inputs/test-q3-q4.txt\" to test different graphs.\n",
        "\"\"\"\n",
        "\n",
        "graph_matrix =[]\n",
        "def load_data(path = \"./Inputs/test-q3-q4.txt\"):\n",
        "    with  open(path , 'r') as f:\n",
        "        lines = f.readlines()\n",
        "        number_of_vertices = int(lines[0])\n",
        "        for i in range(number_of_vertices):\n",
        "            line_split = lines[i+1].split(',');\n",
        "            graph_matrix.append([])\n",
        "            for j in range(number_of_vertices):\n",
        "                graph_matrix[i].append(int(line_split[j]))\n",
        "load_data()"
      ],
      "metadata": {
        "id": "40PZlOv3WBep"
      },
      "execution_count": null,
      "outputs": []
    },
    {
      "cell_type": "markdown",
      "source": [
        "## Edge Count"
      ],
      "metadata": {
        "id": "b76etYuHWCth"
      }
    },
    {
      "cell_type": "markdown",
      "source": [
        "Complete the following line to find out the number of graphs edges from its adjacency matrix. It can be done in one line using NumPy."
      ],
      "metadata": {
        "id": "fVJ3FAYAWEFq"
      }
    },
    {
      "cell_type": "code",
      "source": [
        "edge_count = np.sum(graph_matrix)//2\n",
        "print(edge_count)"
      ],
      "metadata": {
        "id": "h5CcTEhTWFG6"
      },
      "execution_count": null,
      "outputs": []
    },
    {
      "cell_type": "markdown",
      "source": [
        "## State"
      ],
      "metadata": {
        "id": "alXC2MlAWGeq"
      }
    },
    {
      "cell_type": "markdown",
      "source": [
        "To use local search algorithms, we must define our state-space. As the problem is about choosing a vertex or not, we define each state as a vector $S$ of size $n$. \n",
        "\n",
        "$$\n",
        "S_i=   \\left\\{\n",
        "\\begin{array}{ll}\n",
        "      0 & \\text{vertex $v_i$ is not in vertex cover} \\\\\n",
        "      1 & \\text{vertex $v_i$ is in vertex cover}\n",
        "\\end{array} \n",
        "\\right.\n",
        "$$"
      ],
      "metadata": {
        "id": "RkGElL8pWIBx"
      }
    },
    {
      "cell_type": "markdown",
      "source": [
        "Write a function that generates a random state. i.e., it must return a boolean vector of size $n$."
      ],
      "metadata": {
        "id": "c4lhUJEbWJzC"
      }
    },
    {
      "cell_type": "code",
      "source": [
        "def random_state_generator(n):\n",
        "    v = np.random.randint(0, 2,(n))\n",
        "    return v"
      ],
      "metadata": {
        "id": "B1YrGZV-WK-0"
      },
      "execution_count": null,
      "outputs": []
    },
    {
      "cell_type": "markdown",
      "source": [
        "We must also define the neighbor state. We can use multiple definitions for neighbor states, But here we use a simple one. Two states are neighbors if and only if they differ in just one element. Complete the following function, which gets a state and returns a new state by randomly choosing one element in the previous state and changing it from $0$ to $1$ or $1$ to $0$.\n",
        "\n",
        "It is strongly recommended that you return the index of the changed element and its value, as you will likely need that later."
      ],
      "metadata": {
        "id": "zI3ZocpRWMNK"
      }
    },
    {
      "cell_type": "code",
      "source": [
        "def neighbour_state_generator(state):\n",
        "    new_state = state.copy()\n",
        "    n = len(state)\n",
        "    vertex_to_change = np.random.randint(0, n)\n",
        "    previous_value = state[vertex_to_change]\n",
        "    new_state[vertex_to_change] = 1 -  state[vertex_to_change]\n",
        "    return new_state, previous_value, vertex_to_change"
      ],
      "metadata": {
        "id": "M58zoU9tWNR5"
      },
      "execution_count": null,
      "outputs": []
    },
    {
      "cell_type": "markdown",
      "source": [
        "## Cost Function"
      ],
      "metadata": {
        "id": "8Nf9zDmxWOjp"
      }
    },
    {
      "cell_type": "markdown",
      "source": [
        "We must also define a cost function to evaluate each state. There are many ways to define a cost function for the vertex cover problem. Here we propose a cost function that works well with the problem. You could use other cost functions if you believe they work better. \n",
        "\n",
        "Our Proposed cost function is:\n",
        "\n",
        "$C(s)=A*\\sum_{i=1}^{n} s_{i}+ B*\\sum_{i=1}^{n} \\sum_{j=1}^{n} \\mathrm{~d}_{i j} \\overline{s_{i} \\vee s_{j}}$\n",
        "\n",
        "Here, $s_i$ is the $i\\text{th}$ element of state vector. $\\overline{s_{i} \\vee s_{j}}$ is logical NOR of $v_i$ and $v_j$.\n",
        "\n",
        "$A$ and $B$ are two arbitrary constants. Usually $A=1$ and $B=1$, but you could use other values.\n",
        "\n",
        "Note that the formula above uses a 1-based index as a mathematical equation, but Python uses a 0-based index."
      ],
      "metadata": {
        "id": "Ud4uBD5eWP9j"
      }
    },
    {
      "cell_type": "code",
      "source": [
        "def cost_function(graph_matrix,state , A = 1 , B=5):\n",
        "    cost = 0;\n",
        "    n = len(state)\n",
        "    cost += A*np.sum(state)\n",
        "    Nor_Mat = np.ones((n,n))\n",
        "    for i in range(n):\n",
        "        if (state[i] == 1): \n",
        "                Nor_Mat[i,:] = 0\n",
        "                Nor_Mat[:,i] = 0\n",
        "    cost += B*np.sum(Nor_Mat*graph_matrix)\n",
        "    return cost"
      ],
      "metadata": {
        "id": "u1dkmDaSWQ5R"
      },
      "execution_count": null,
      "outputs": []
    },
    {
      "cell_type": "markdown",
      "source": [
        "## Simulated Annealing"
      ],
      "metadata": {
        "id": "AKJmB8R6WSIZ"
      }
    },
    {
      "cell_type": "markdown",
      "source": [
        "Now comes the central part. Simulated annealing is somehow like normal hill-climbing, but with a small but significant change. In each iteration of Simulated Annealing, we calculate the cost of this new state after generating a neighbor state. If it is better than the current state, we accept it and use it as the new current state. But if it is worse than the current state, we calculate an acceptance probability and accept it based on this probability.\n",
        "\n",
        "Usually, $P = e^{-\\frac{\\Delta C}{T}}$ is used for acceptance probability, in which $\\Delta C$ is the cost difference between the new state and previous state. $T$ is a positive parameter called Temperature. At first, it is initialized based on the problem domain. After each iteration, it is multiplied by a factor of $\\alpha<1$ to make it smaller. The point of using $T$ is to allow more random perturbations at the start of the algorithm to prevent getting stuck in a local extremum.\n",
        "\n",
        "For the vertex cover problem, there exist better acceptance probability equations. We consider one here, but you are free to use other equation.\n",
        "\n",
        "\n"
      ],
      "metadata": {
        "id": "P1iY1BTkWTXy"
      }
    },
    {
      "cell_type": "markdown",
      "source": [
        "### Vertex Cover Probability Acceptance Equation"
      ],
      "metadata": {
        "id": "M5kg9HYgWVMC"
      }
    },
    {
      "cell_type": "markdown",
      "source": [
        "Let $s$ be current state and $s'$ be a neighbour state that has worse cost function that $s$. Also suppose that only $i$th element is different between $s$ and $s'$. For calculating acceptance probability of $s'$ we use this equation: \n",
        "\n",
        "\n",
        "$$p= \\begin{cases}\\mathrm{e}^{-\\frac{\\Delta F\\left(1-D e g\\left(s_{i}\\right)\\right)}{T}} & s_{i}=1 \\\\ \\mathrm{e}^{-\\frac{\\Delta F\\left(1+D e g\\left(s_{i}\\right)\\right)}{T}} & s_{i}=0\\end{cases}$$\n",
        "in which\n",
        "$$\\operatorname{Deg}\\left({i}\\right)=\\frac{\\operatorname{Degree}(i)}{E d g e N u m}$$\n",
        "\n",
        "Note that $Deg(s_i)$ is actually independent of state and can be calculated beforehand for each vertex."
      ],
      "metadata": {
        "id": "Jko2jb53WW4i"
      }
    },
    {
      "cell_type": "markdown",
      "source": [
        "Complete the line bellow the make an array named 'deg', in which $i$th element corresponds to $Deg(i)$"
      ],
      "metadata": {
        "id": "zBaBBL80WaSp"
      }
    },
    {
      "cell_type": "code",
      "source": [
        "deg = np.sum(graph_matrix,axis=0)/edge_count"
      ],
      "metadata": {
        "id": "-igAxh3SWbx5"
      },
      "execution_count": null,
      "outputs": []
    },
    {
      "cell_type": "markdown",
      "source": [
        "Now complete the function 'prob_accept' that gets current and next state costs and other related information and returns the probability of acceptance of the next state."
      ],
      "metadata": {
        "id": "LxNHGe4qWdOp"
      }
    },
    {
      "cell_type": "code",
      "source": [
        "def prob_accept(c0,c1,state,T,deg,vertex_to_change): \n",
        "    delat_c = c1-c0\n",
        "    if state[vertex_to_change]==1:\n",
        "        p = exp(-delat_c*(1-deg[vertex_to_change])/T)\n",
        "    else:\n",
        "        p = exp(-delat_c*(1+deg[vertex_to_change])/T)\n",
        "    return p"
      ],
      "metadata": {
        "id": "hrD5K6JWWeK5"
      },
      "execution_count": null,
      "outputs": []
    },
    {
      "cell_type": "markdown",
      "source": [
        "Now Implement a function called 'accept'. This function gets the current state and next state and other required parameters as input and outputs True or False to identify whether we should accept the next state or not."
      ],
      "metadata": {
        "id": "JdA2nhvjWfOr"
      }
    },
    {
      "cell_type": "code",
      "source": [
        "def accept(current_state,next_state,graph_matrix,T,deg,vertex_to_change):\n",
        "    c0 = cost_function(graph_matrix,current_state)\n",
        "    c1 = cost_function(graph_matrix,next_state) \n",
        "    if c1 < c0 :\n",
        "        return True\n",
        "    else: \n",
        "        p = prob_accept(c0,c1,current_state,T,deg,vertex_to_change)\n",
        "        res = np.random.binomial(1, p, 1)   \n",
        "        if res == 1:\n",
        "            return True\n",
        "        return False"
      ],
      "metadata": {
        "id": "mGQzIXcfWgJ5"
      },
      "execution_count": null,
      "outputs": []
    },
    {
      "cell_type": "markdown",
      "source": [
        "Now Implement the main 'anneal' function that performs the algorithm. Try to experiment with different initial T and $alpha$ values to get the best result. Also, your function must implement these two stop criteria:\n",
        "\n",
        "- If the number of iterations exceeded 'stopping_iter', stop.\n",
        "- If the temperature drops below 'stopping_temprature', stop.\n",
        "\n",
        "Also, the cost_list array is defined before the function. Append the cost of the best solution found after each iteration to this array. Also, print out the best solution and the best cost obtained."
      ],
      "metadata": {
        "id": "dHQTmFdyWhMJ"
      }
    },
    {
      "cell_type": "code",
      "source": [
        "cost_list = []\n",
        "\n",
        "\n",
        "def anneal(\n",
        "    graph_matrix, stopping_temperature=1e-8, stopping_iter=2000, alpha=0.999, T=70\n",
        "):\n",
        "    counter = 0\n",
        "    n = np.size(graph_matrix,axis=0)\n",
        "    current_state = random_state_generator(n)\n",
        "    cost_list.append(cost_function(graph_matrix,current_state))\n",
        "    edge_count = np.sum(graph_matrix)//2\n",
        "    deg = np.sum(graph_matrix,axis=0)/edge_count\n",
        "    while(1):\n",
        "        state1 = T<=stopping_temperature\n",
        "        state2 = counter>=stopping_iter\n",
        "        if state1 or state2:\n",
        "            break\n",
        "        next_state, previous_value, vertex_to_change = neighbour_state_generator(current_state)\n",
        "        res = accept(current_state,next_state,graph_matrix,T,deg,vertex_to_change)\n",
        "        if res == True: \n",
        "            current_state = next_state\n",
        "        T = T * 0.99\n",
        "        counter += 1\n",
        "        cost_list.append(cost_function(graph_matrix,current_state))\n",
        "        print(counter,cost_list[-1])\n",
        "    best_solution = current_state\n",
        "    best_cost = cost_function(graph_matrix,current_state)\n",
        "    print(T)\n",
        "    print(counter)\n",
        "    return best_solution, best_cost"
      ],
      "metadata": {
        "id": "I0zRj4JbWiLi"
      },
      "execution_count": null,
      "outputs": []
    },
    {
      "cell_type": "code",
      "source": [
        "best_sol_SA, best_cost_SA = anneal(\n",
        "    graph_matrix,\n",
        ")"
      ],
      "metadata": {
        "id": "RGOlKEvnWjiB"
      },
      "execution_count": null,
      "outputs": []
    },
    {
      "cell_type": "code",
      "source": [
        "best_sol_SA"
      ],
      "metadata": {
        "id": "f8b08D7TWrUC"
      },
      "execution_count": null,
      "outputs": []
    },
    {
      "cell_type": "markdown",
      "source": [
        "Plot the cost vs. iteration graph."
      ],
      "metadata": {
        "id": "hZp4oqebWsfq"
      }
    },
    {
      "cell_type": "code",
      "source": [
        "def plot_cost(cost_list):\n",
        "    plt.plot(cost_list)\n",
        "    plt.ylabel('Cost')\n",
        "    plt.xlabel('Iteration')\n",
        "    plt.grid(True)\n",
        "    plt.title( 'Cost vs. Iteration Graph')\n",
        "    pass\n",
        "\n",
        "plot_cost(cost_list)"
      ],
      "metadata": {
        "id": "S2kVOgr2WtWa"
      },
      "execution_count": null,
      "outputs": []
    }
  ]
}